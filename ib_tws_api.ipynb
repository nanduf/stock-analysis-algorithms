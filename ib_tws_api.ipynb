{
 "cells": [
  {
   "cell_type": "markdown",
   "source": [
    "This is a basic way of making an order using the API"
   ],
   "metadata": {
    "collapsed": false
   }
  },
  {
   "cell_type": "code",
   "execution_count": null,
   "metadata": {
    "collapsed": true
   },
   "outputs": [],
   "source": [
    "import pandas as pd\n",
    "from ibapi.client import EClient\n",
    "from ibapi.wrapper import EWrapper\n",
    "from ibapi.contract import Contract\n",
    "from ibapi.order import Order\n",
    "class TestApp(EWrapper, EClient):\n",
    "    def __init__(self):\n",
    "        EClient.__init__(self, self)\n",
    "\n",
    "    def nextValidId(self, orderId):\n",
    "        # create contract\n",
    "        contract = Contract()\n",
    "        contract.symbol = \"AAPL\"\n",
    "        contract.secType = \"STK\"\n",
    "        contract.exchange = \"SMART\"\n",
    "        contract.currency = \"USD\"\n",
    "        contract.primaryExchange = \"NASDAQ\"\n",
    "\n",
    "        # create order\n",
    "        order = Order()\n",
    "        order.action = \"BUY\"\n",
    "        order.totalQuantity = 100\n",
    "        order.orderType = \"MKT\"\n",
    "\n",
    "        # place order\n",
    "        self.placeOrder(orderId, contract, order)\n",
    "\n",
    "def main():\n",
    "    app = TestApp()\n",
    "    app.connect(\"127.0.0.1\", 7497, 0)\n",
    "    app.run()\n",
    "\n",
    "if __name__ == \"__main__\":\n",
    "    main()\n"
   ]
  },
  {
   "cell_type": "markdown",
   "source": [
    "This is closer to what we will want to do:"
   ],
   "metadata": {
    "collapsed": false
   }
  },
  {
   "cell_type": "code",
   "execution_count": 5,
   "outputs": [
    {
     "name": "stderr",
     "output_type": "stream",
     "text": [
      "ERROR -1 502 Couldn't connect to TWS. Confirm that \"Enable ActiveX and Socket EClients\" \n",
      "is enabled and connection port is the same as \"Socket Port\" on the \n",
      "TWS \"Edit->Global Configuration...->API->Settings\" menu. Live Trading ports: \n",
      "TWS: 7496; IB Gateway: 4001. Simulated Trading ports for new installations \n",
      "of version 954.1 or newer:  TWS: 7497; IB Gateway: 4002\n"
     ]
    }
   ],
   "source": [
    "import pandas as pd\n",
    "from datetime import datetime\n",
    "from ibapi.client import EClient\n",
    "from ibapi.wrapper import EWrapper\n",
    "from ibapi.contract import Contract\n",
    "from ibapi.order import Order\n",
    "\n",
    "\n",
    "class TestApp(EWrapper, EClient):\n",
    "    \"\"\"\n",
    "    Trading application class that integrates EClient and EWrapper.\n",
    "    \"\"\"\n",
    "    def __init__(self):\n",
    "        EClient.__init__(self, self)\n",
    "        self.order_status = {}\n",
    "        self.total_orders = 0\n",
    "        self.processed_orders = 0\n",
    "\n",
    "    def nextValidId(self, orderId: int):\n",
    "        \"\"\"\n",
    "        Callback function for a valid order ID.\n",
    "        :param orderId: Next valid order ID.\n",
    "        \"\"\"\n",
    "        print(\"Successfully connected to TWS. Next valid order ID:\", orderId)\n",
    "        self.orderId = orderId\n",
    "        self.read_csv_and_trade(\"stocks.csv\")\n",
    "\n",
    "    def read_csv_and_trade(self, csv_file: str):\n",
    "        \"\"\"\n",
    "        Read stock information from a CSV file and place trades.\n",
    "        :param csv_file: Path to the CSV file.\n",
    "        \"\"\"\n",
    "        df = pd.read_csv(csv_file)\n",
    "        self.total_orders = len(df)\n",
    "        for index, row in df.iterrows():\n",
    "            self.trade_stock(row)\n",
    "\n",
    "\n",
    "    def get_exchange_opening_time(self, exchange: str):\n",
    "        \"\"\"\n",
    "        Get the opening time of an exchange.\n",
    "        :param exchange: Name of the exchange.\n",
    "        :return: datetime: Opening time of the exchange.\n",
    "        \"\"\"\n",
    "        opening_times = {\n",
    "            'NASDAQ': \"09:30:00\",  # 09:30:00 EST\n",
    "            'NYSE': \"09:30:00\",    # 09:30:00 EST\n",
    "            'LSE': \"03:00:00\",     # 08:00:00 GMT\n",
    "            'TSE': \"09:30:00\",     # 09:30:00 EST (Toronto Stock Exchange)\n",
    "            'CSE': \"09:30:00\",     # 09:30:00 EST (Canadian Securities Exchange)\n",
    "            'ASX': \"18:00:00\",     # 10:00:00 AEDT (next day)\n",
    "            'Euronext': \"03:00:00\", # 09:00:00 CET\n",
    "            'Xetra': \"03:00:00\",   # 09:00:00 CET\n",
    "            'SIX': \"03:00:00\"      # 09:00:00 CET (SIX Swiss Exchange)\n",
    "        }\n",
    "\n",
    "        today = datetime.now().strftime(\"%Y-%m-%d \")\n",
    "        opening_time_str = opening_times.get(exchange, \"\")\n",
    "        return datetime.strptime(today + opening_time_str, \"%Y-%m-%d %H:%M:%S\")\n",
    "\n",
    "    def trade_stock(self, stock_info: pd.Series):\n",
    "        \"\"\"\n",
    "        Place a trade for a stock.\n",
    "        :param stock_info: Stock information.\n",
    "        \"\"\"\n",
    "        # create contract\n",
    "        contract = Contract()\n",
    "        contract.symbol = stock_info['symbol']\n",
    "        contract.secType = \"STK\"\n",
    "        contract.exchange = stock_info['exchange']\n",
    "        contract.currency = stock_info['currency']\n",
    "        contract.primaryExchange = stock_info['primaryExchange']\n",
    "\n",
    "        # create order\n",
    "        order = Order()\n",
    "        # These are no longer supported and are default true\n",
    "        order.eTradeOnly = False\n",
    "        order.firmQuoteOnly = False\n",
    "\n",
    "        order.action = stock_info['action']\n",
    "        order.totalQuantity = int(stock_info['quantity'])\n",
    "        order.orderType = \"MKT\"\n",
    "\n",
    "        # place order\n",
    "        self.placeOrder(self.orderId, contract, order)\n",
    "        self.orderId += 1\n",
    "\n",
    "    def orderStatus(self, orderId, status, filled, remaining, avgFillPrice,\n",
    "                    permId, parentId, lastFillPrice, clientId, whyHeld, mktCapPrice):\n",
    "        \"\"\"\n",
    "        Callback function for receiving order status updates.\n",
    "        \"\"\"\n",
    "        if orderId not in self.order_status or self.order_status[orderId] != status:\n",
    "            print(f\"Order ID: {orderId}, Status: {status}\")\n",
    "            self.order_status[orderId] = status  # Update the status when it changes\n",
    "            self.processed_orders += 1\n",
    "\n",
    "            if self.processed_orders >= self.total_orders:\n",
    "                self.disconnect()\n",
    "\n",
    "    def openOrder(self, orderId, contract, order, orderState):\n",
    "        \"\"\"\n",
    "        Callback function for open orders.\n",
    "        \"\"\"\n",
    "        if orderId not in self.order_status or self.order_status[orderId] != orderState.status:\n",
    "            print(f\"Open Order ID: {orderId}, {contract.symbol}, {contract.secType} at {contract.exchange}, Status: {orderState.status}\")\n",
    "            self.order_status[orderId] = orderState.status  # Update the status\n",
    "\n",
    "def main():\n",
    "    app = TestApp()\n",
    "    app.connect(\"127.0.0.1\", 7497, 0)\n",
    "    app.run()\n",
    "\n",
    "if __name__ == \"__main__\":\n",
    "    main()\n"
   ],
   "metadata": {
    "collapsed": false
   }
  },
  {
   "cell_type": "markdown",
   "source": [],
   "metadata": {
    "collapsed": false
   }
  }
 ],
 "metadata": {
  "kernelspec": {
   "display_name": "Python 3",
   "language": "python",
   "name": "python3"
  },
  "language_info": {
   "codemirror_mode": {
    "name": "ipython",
    "version": 2
   },
   "file_extension": ".py",
   "mimetype": "text/x-python",
   "name": "python",
   "nbconvert_exporter": "python",
   "pygments_lexer": "ipython2",
   "version": "2.7.6"
  }
 },
 "nbformat": 4,
 "nbformat_minor": 0
}
