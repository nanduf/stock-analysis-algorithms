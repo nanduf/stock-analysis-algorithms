{
 "cells": [
  {
   "cell_type": "code",
   "execution_count": null,
   "outputs": [],
   "source": [
    "import pandas as pd\n",
    "import yfinance as yf\n",
    "from datetime import datetime, timedelta\n",
    "from prophet.serialize import model_from_json"
   ],
   "metadata": {
    "collapsed": false
   }
  },
  {
   "cell_type": "code",
   "execution_count": null,
   "outputs": [],
   "source": [
    "def query_yf(stock: tuple, period: int) -> pd.DataFrame:\n",
    "    \"\"\"\n",
    "    Query the Yahoo Finance API for a given stock and store the data.\n",
    "\n",
    "    :param stock: tuple\n",
    "        A tuple containing three elements:\n",
    "        - company (str): The name of the company.\n",
    "        - ticker (str): The stock ticker symbol of the company.\n",
    "        - exchange (str): The stock exchange where the company is listed.\n",
    "    :param period: int\n",
    "        The number of days of data to retrieve.\n",
    "\n",
    "    :return: data: a pandas dataframe of the data\n",
    "    \"\"\"\n",
    "    try:\n",
    "        # Extract company, ticker, and exchange from the stock tuple\n",
    "        company, ticker, exchange = stock\n",
    "\n",
    "        yesterday = datetime.now() - timedelta(days=period)\n",
    "        today = datetime.now()\n",
    "\n",
    "        yesterday_str = yesterday.strftime('%Y-%m-%d')\n",
    "        today_str = today.strftime('%Y-%m-%d')\n",
    "        today_str = '2023-12-18'\n",
    "\n",
    "        # Query the API using yfinance\n",
    "        stock_data = yf.Ticker(ticker)\n",
    "        data = stock_data.history(period='1d', start=yesterday_str, end=today_str)\n",
    "\n",
    "        # Add the company name to the dataframe\n",
    "        data['Company'] = company\n",
    "        data['Ticker'] = ticker\n",
    "        data['Exchange'] = exchange\n",
    "\n",
    "        # Reorder the columns\n",
    "        data = data[['Company', 'Ticker', 'Exchange', 'Open', 'High', 'Low', 'Close', 'Volume']]\n",
    "\n",
    "        # Convert DataFrame index to a 'DatetimeIndex' without time zone information\n",
    "        data.index = data.index.tz_localize(None)  # this is necessary for some algorithms\n",
    "\n",
    "        return data\n",
    "    except Exception as e:\n",
    "        print(f\"Error retrieving data: {e}\")\n",
    "        return None"
   ],
   "metadata": {
    "collapsed": false
   }
  },
  {
   "cell_type": "code",
   "execution_count": null,
   "outputs": [],
   "source": [
    "def query_yf_list(stocks: pd.DataFrame, period: int) -> pd.DataFrame:\n",
    "    \"\"\"\n",
    "    Query the Yahoo Finance API for all stocks in a list based on their exchange.\n",
    "\n",
    "    :param stocks: list\n",
    "        A list of tuples containing three elements:\n",
    "        - company (str): The name of the company.\n",
    "        - ticker (str): The stock ticker symbol of the company.\n",
    "        - exchange (str): The stock exchange where the company is listed.\n",
    "    :param period: int\n",
    "        The number of days of data to retrieve.\n",
    "\n",
    "    :return: data: a list of pandas dataframes of the data\n",
    "    \"\"\"\n",
    "    # Create an empty list\n",
    "    data = []\n",
    "\n",
    "    # Loop through the list of stocks\n",
    "    for _, row in stocks.iterrows():\n",
    "        stock = (row['Company'], row['Ticker'], row['Stock Exchange'])\n",
    "\n",
    "        # Query the API using yfinance\n",
    "        stock_data = query_yf(stock, period)\n",
    "\n",
    "        # Append the data to the dataframe\n",
    "        if stock_data is not None:\n",
    "            data.append(stock_data)\n",
    "\n",
    "    return data"
   ],
   "metadata": {
    "collapsed": false
   }
  },
  {
   "cell_type": "code",
   "execution_count": null,
   "outputs": [],
   "source": [
    "def day_average_std(df: pd.DataFrame, columns: [str] = ['Close', 'Open', 'High', 'Low', 'Volume'], days: int = 30, company_name: str = None) -> pd.DataFrame:\n",
    "    \"\"\"\n",
    "    Compute the n-day average and standard deviation of the stock price.\n",
    "    :param column: column to average\n",
    "    :param df: dataframe of stock data\n",
    "    :param days: number of days to average\n",
    "    :return: dataframe of stock data with added column for an n day average\n",
    "    \"\"\"\n",
    "    for column in columns:\n",
    "        if company_name is not None:\n",
    "            column_title = f\"{company_name}-{column} Day Avg\"\n",
    "        else:\n",
    "            column_title = f\"{column} Day Avg\"\n",
    "\n",
    "        df[column_title] = df[column].rolling(days).mean().shift(1).astype('float32')  # shift to not include today\n",
    "        day_mean = df[column].iloc[0:days+1].mean().astype('float32')\n",
    "        df[column_title] = df[column_title].fillna(day_mean)\n",
    "\n",
    "        # now add the standard deviation\n",
    "        if company_name is not None:\n",
    "            column_title = f\"{company_name}-{column} Day Std\"\n",
    "        else:\n",
    "            column_title = f\"{column} Day Std\"\n",
    "        df[column_title] = df[column].rolling(days).std().shift(1).astype('float32')  # shift to not include today\n",
    "        day_std = df[column].iloc[0:days+1].std().astype('float32')\n",
    "        df[column_title] = df[column_title].fillna(day_std)\n",
    "\n",
    "    return df"
   ],
   "metadata": {
    "collapsed": false
   }
  },
  {
   "cell_type": "code",
   "execution_count": null,
   "outputs": [],
   "source": [
    "def overall_averages(data_list: [pd.DataFrame]) -> pd.DataFrame:\n",
    "    \"\"\"\n",
    "    Compute the average values for each column for all stocks in the list,\n",
    "    corresponding to the previous day's averages.\n",
    "    :param data_list: list of dataframes of individual stock data.\n",
    "    :return: dataframe of overall averages.\n",
    "    \"\"\"\n",
    "    concatenated_df = pd.concat(data_list)\n",
    "    concatenated_df.drop(columns=['Company', 'Ticker', 'Exchange'], inplace=True)\n",
    "    concatenated_df.set_index('Date', inplace=True)\n",
    "\n",
    "    # Calculate daily averages\n",
    "    daily_averages = concatenated_df.groupby(concatenated_df.index).mean().astype('float32')\n",
    "\n",
    "    # Shift the averages to represent the previous day\n",
    "    daily_averages = daily_averages.shift(1).astype('float32')\n",
    "\n",
    "    # Rename columns to reflect they are lagged values\n",
    "    daily_averages.columns = ['All Prev Day Avg ' + col for col in daily_averages.columns]\n",
    "    daily_averages.drop(columns=['All Prev Day Avg index'], inplace=True)\n",
    "\n",
    "    return daily_averages\n"
   ],
   "metadata": {
    "collapsed": false
   }
  },
  {
   "cell_type": "code",
   "execution_count": null,
   "outputs": [],
   "source": [
    "def exchange_averages(data_list: [pd.DataFrame]) -> [pd.DataFrame]:\n",
    "    \"\"\"\n",
    "    Compute the average values for each column for all stocks in the exchange,\n",
    "    corresponding to the previous day's averages.\n",
    "    :param data_list: list of dataframes of individual stock data.\n",
    "    :return: dictionary of dataframes of exchange averages.\n",
    "    \"\"\"\n",
    "    concatenated_df = pd.concat(data_list)\n",
    "\n",
    "    # Group by 'Date' and 'Exchange'\n",
    "    grouped = concatenated_df.groupby(['Date', 'Exchange'])\n",
    "\n",
    "    # Calculate the average of the required columns\n",
    "    averages = grouped[['Open', 'High', 'Low', 'Close', 'Volume']].mean().astype('float32')\n",
    "\n",
    "    # Shift the averages to represent the previous day\n",
    "    averages = averages.groupby(level='Exchange').shift(1).astype('float32')\n",
    "\n",
    "    # Rename columns to reflect they are lagged values\n",
    "    averages.columns = ['Exchange Prev Day Avg ' + col for col in averages.columns]\n",
    "\n",
    "    # Create a dictionary of dataframes for each exchange\n",
    "    exchange_dfs = {exchange: df.reset_index() for exchange, df in averages.groupby(level='Exchange')}\n",
    "\n",
    "    return exchange_dfs\n"
   ],
   "metadata": {
    "collapsed": false
   }
  },
  {
   "cell_type": "code",
   "execution_count": null,
   "outputs": [],
   "source": [
    "def add_exchange_averages_to_stocks(data_list: [pd.DataFrame], exchange_dfs: dict) -> [pd.DataFrame]:\n",
    "    \"\"\"\n",
    "    Add exchange averages to each stock in the data list.\n",
    "\n",
    "    :param data_list: list of dataframes of individual stock data.\n",
    "    :param exchange_dfs: dictionary of dataframes containing exchange averages.\n",
    "    :return: list of dataframes with added exchange average columns.\n",
    "    \"\"\"\n",
    "    updated_data_list = []\n",
    "\n",
    "    for stock_df in data_list:\n",
    "        exchange_name = stock_df['Exchange'].iloc[0]\n",
    "\n",
    "        # Get the corresponding exchange average dataframe\n",
    "        exchange_avg_df = exchange_dfs.get(exchange_name, None)\n",
    "\n",
    "        updated_df = pd.merge(stock_df, exchange_avg_df, how='left', on=['Date', 'Exchange'])\n",
    "        updated_data_list.append(updated_df)\n",
    "\n",
    "    return updated_data_list"
   ],
   "metadata": {
    "collapsed": false
   }
  },
  {
   "cell_type": "code",
   "execution_count": null,
   "outputs": [],
   "source": [
    "def add_overall_averages_to_stocks(data_list: [pd.DataFrame], average_dfs: [pd.DataFrame]):\n",
    "    \"\"\"\n",
    "    Add overall averages to each stock in the data list.\n",
    "\n",
    "    :param data_list: list of dataframes of individual stock data.\n",
    "    :param average_dfs: list of dataframes containing overall averages.\n",
    "    :return: list of dataframes with added overall average columns.\n",
    "    \"\"\"\n",
    "    updated_data_list = []\n",
    "\n",
    "    for stock_df in data_list:\n",
    "        updated_df = pd.merge(stock_df, average_dfs, how='left', on='Date')\n",
    "        updated_data_list.append(updated_df)\n",
    "\n",
    "    return updated_data_list"
   ],
   "metadata": {
    "collapsed": false
   }
  },
  {
   "cell_type": "code",
   "execution_count": null,
   "metadata": {
    "collapsed": true
   },
   "outputs": [],
   "source": [
    "# start by loading the prophet models for each stock from the models directory\n",
    "# load the past thirty days of data for each stock and process as necessary\n",
    "# generate predictions for the next day\n",
    "# place orders for the next day"
   ]
  },
  {
   "cell_type": "code",
   "execution_count": null,
   "outputs": [],
   "source": [
    "# load the prophet models for each stock from the models directory\n",
    "stocks_list = pd.read_csv('Uranium Company Master List.csv')\n",
    "models = {}\n",
    "for stock in stocks_list:\n",
    "    company_name = stock['Company']\n",
    "    with open(f'models/{company_name}.json', 'r') as fin:\n",
    "        models[company_name] = model_from_json(fin.read())\n"
   ],
   "metadata": {
    "collapsed": false
   }
  },
  {
   "cell_type": "code",
   "execution_count": null,
   "outputs": [],
   "source": [
    "# retrieve necessary data for predicting the next day and process as necessary\n",
    "data_list = query_yf_list(stocks_list, 30)\n",
    "for data in data_list:\n",
    "    data.reset_index(inplace=True)  # integer index\n",
    "\n",
    "exchange_averages_dfs = exchange_averages(data_list)\n",
    "overall_averages_dfs = overall_averages(data_list)\n",
    "data_list = add_exchange_averages_to_stocks(data_list, exchange_averages_dfs)\n",
    "data_list = add_overall_averages_to_stocks(data_list, overall_averages_dfs)\n",
    "for data in data_list:\n",
    "    data = day_average_std(data)"
   ],
   "metadata": {
    "collapsed": false
   }
  },
  {
   "cell_type": "code",
   "execution_count": null,
   "outputs": [],
   "source": [
    "predictions = []\n",
    "\n",
    "for stock_df in data_list:\n",
    "    company_name = stock_df['Company'].iloc[0]\n",
    "    ticker = stock_df['Ticker'].iloc[0]\n",
    "    exchange = stock_df['Exchange'].iloc[0]\n",
    "\n",
    "    model = models.get(company_name)\n",
    "    if not model:\n",
    "        continue  # or handle missing model for a company\n",
    "\n",
    "    # Prepare the dataframe for Prophet prediction\n",
    "    df_for_prediction = stock_df.copy()\n",
    "    df_for_prediction['ds'] = df_for_prediction['Date']\n",
    "    df_for_prediction.drop(columns=['Company', 'Ticker', 'Exchange', 'Date'], inplace=True)\n",
    "\n",
    "    # Ensure current day's close value is available\n",
    "    current_day_value = df_for_prediction['Close'].iloc[-1]  # Get the most recent closing value\n",
    "\n",
    "    future = model.make_future_dataframe(periods=1)\n",
    "    forecast = model.predict(df_for_prediction)\n",
    "\n",
    "    # Extract the prediction for the next day\n",
    "    next_day_prediction = forecast.iloc[-1]['yhat']  # Predicted Close value for the next day\n",
    "\n",
    "    predictions.append((ticker, exchange, next_day_prediction, current_day_value))\n"
   ],
   "metadata": {
    "collapsed": false
   }
  },
  {
   "cell_type": "code",
   "execution_count": null,
   "outputs": [],
   "source": [
    "import pandas as pd\n",
    "from ibapi.client import EClient\n",
    "from ibapi.wrapper import EWrapper\n",
    "from ibapi.contract import Contract\n",
    "from ibapi.order import Order\n",
    "class TestApp(EWrapper, EClient):\n",
    "    def __init__(self):\n",
    "        EClient.__init__(self, self)\n",
    "\n",
    "    def nextValidId(self, orderId, ticker, exchange, next_day_prediction, current_day_value):\n",
    "        # create contract\n",
    "        contract = Contract()\n",
    "        contract.symbol = ticker\n",
    "        contract.secType = \"STK\"\n",
    "        contract.exchange = \"SMART\"\n",
    "        contract.currency = \"USD\"\n",
    "        contract.primaryExchange = exchange\n",
    "\n",
    "        # create order\n",
    "        order = Order()\n",
    "        # set action based on Prophet prediction\n",
    "        if next_day_prediction > current_day_value:\n",
    "            order.action = \"SELL\"\n",
    "        elif next_day_prediction < current_day_value:\n",
    "            order.action = \"BUY\"\n",
    "\n",
    "       # using a set quantity, but could be changed with more complex logic based on\n",
    "        # risk and etc\n",
    "        order.totalQuantity = 10\n",
    "        order.orderType = \"MKT\"\n",
    "\n",
    "        # place order\n",
    "        self.placeOrder(orderId, contract, order)\n",
    "\n",
    "def main():\n",
    "    app = TestApp()\n",
    "    app.connect(\"127.0.0.1\", 7497, 0)\n",
    "    app.run()\n",
    "\n",
    "if __name__ == \"__main__\":\n",
    "    main()\n"
   ],
   "metadata": {
    "collapsed": false
   }
  }
 ],
 "metadata": {
  "kernelspec": {
   "display_name": "Python 3",
   "language": "python",
   "name": "python3"
  },
  "language_info": {
   "codemirror_mode": {
    "name": "ipython",
    "version": 2
   },
   "file_extension": ".py",
   "mimetype": "text/x-python",
   "name": "python",
   "nbconvert_exporter": "python",
   "pygments_lexer": "ipython2",
   "version": "2.7.6"
  }
 },
 "nbformat": 4,
 "nbformat_minor": 0
}
